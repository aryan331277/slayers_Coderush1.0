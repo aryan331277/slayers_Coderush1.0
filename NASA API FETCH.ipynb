{
 "cells": [
  {
   "cell_type": "code",
   "execution_count": 3,
   "id": "a4ed6070",
   "metadata": {},
   "outputs": [
    {
     "name": "stdout",
     "output_type": "stream",
     "text": [
      "Fetching DONKI data from 2025-08-15 to 2025-08-22...\n",
      "✅ Saved CME data to CME_data_2025-08-15_to_2025-08-22.csv\n",
      "✅ Saved FLR data to FLR_data_2025-08-15_to_2025-08-22.csv\n",
      "⚠️ No GST events found in given range.\n",
      "⚠️ No SEP events found in given range.\n",
      "✅ Saved IPS data to IPS_data_2025-08-15_to_2025-08-22.csv\n",
      "⚠️ No MPC events found in given range.\n",
      "✅ Saved RBE data to RBE_data_2025-08-15_to_2025-08-22.csv\n"
     ]
    }
   ],
   "source": [
    "import requests\n",
    "import pandas as pd\n",
    "from datetime import datetime, timedelta\n",
    "\n",
    "# Your NASA API key (get one from https://api.nasa.gov)\n",
    "API_KEY = \"4jG8hw2Xfkj35XCMO6bQAX9xrdQkKyDQXyxefoAd\"   \n",
    "\n",
    "# Base URL for NASA DONKI API\n",
    "BASE_URL = \"https://api.nasa.gov/DONKI\"\n",
    "\n",
    "# Choose event types you want to fetch\n",
    "EVENTS = [\"CME\", \"FLR\", \"GST\", \"SEP\", \"IPS\", \"MPC\", \"RBE\"]\n",
    "\n",
    "# Set the date range (last 7 days)\n",
    "end_date = datetime.today()\n",
    "start_date = end_date - timedelta(days=7)\n",
    "start_str = start_date.strftime(\"%Y-%m-%d\")\n",
    "end_str = end_date.strftime(\"%Y-%m-%d\")\n",
    "\n",
    "print(f\"Fetching DONKI data from {start_str} to {end_str}...\")\n",
    "\n",
    "for event in EVENTS:\n",
    "    url = f\"{BASE_URL}/{event}\"\n",
    "    params = {\n",
    "        \"startDate\": start_str,\n",
    "        \"endDate\": end_str,\n",
    "        \"api_key\": API_KEY\n",
    "    }\n",
    "\n",
    "    try:\n",
    "        response = requests.get(url, params=params)\n",
    "        response.raise_for_status()\n",
    "        data = response.json()\n",
    "\n",
    "        if len(data) > 0:\n",
    "            # Convert to DataFrame\n",
    "            df = pd.json_normalize(data)\n",
    "            filename = f\"{event}_data_{start_str}_to_{end_str}.csv\"\n",
    "            df.to_csv(filename, index=False)\n",
    "            print(f\"✅ Saved {event} data to {filename}\")\n",
    "        else:\n",
    "            print(f\"⚠️ No {event} events found in given range.\")\n",
    "\n",
    "    except Exception as e:\n",
    "        print(f\"❌ Error fetching {event}: {e}\")\n"
   ]
  },
  {
   "cell_type": "code",
   "execution_count": null,
   "id": "6ba91bb6",
   "metadata": {},
   "outputs": [],
   "source": []
  }
 ],
 "metadata": {
  "kernelspec": {
   "display_name": "Python 3",
   "language": "python",
   "name": "python3"
  },
  "language_info": {
   "codemirror_mode": {
    "name": "ipython",
    "version": 3
   },
   "file_extension": ".py",
   "mimetype": "text/x-python",
   "name": "python",
   "nbconvert_exporter": "python",
   "pygments_lexer": "ipython3",
   "version": "3.12.7"
  }
 },
 "nbformat": 4,
 "nbformat_minor": 5
}
